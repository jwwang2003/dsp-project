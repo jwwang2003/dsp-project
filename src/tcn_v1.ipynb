{
 "cells": [
  {
   "cell_type": "code",
   "execution_count": 1,
   "metadata": {},
   "outputs": [
    {
     "name": "stdout",
     "output_type": "stream",
     "text": [
      "Currently training on: cuda\n"
     ]
    }
   ],
   "source": [
    "import torch\n",
    "\n",
    "# Check for CUDA!\n",
    "device = torch.device(\"cuda\" if torch.cuda.is_available() else \"cpu\")\n",
    "print(f\"Currently training on: {device}\")"
   ]
  },
  {
   "cell_type": "code",
   "execution_count": 2,
   "metadata": {},
   "outputs": [],
   "source": [
    "################################################################################\n",
    "###########                      PARAMETERS                   ##################\n",
    "################################################################################\n",
    "\n",
    "BATCH_SIZE = 128 # used to be 512\n",
    "WINDOW_SIZE = 512\n",
    "\n",
    "# Trainning parameters\n",
    "DROPOUT = 0.05\n",
    "N_EPOCHS = 10\n",
    "LEARNING_RATE = 3e-4\n",
    "\n",
    "# Network parameters\n",
    "INPUT_SIZE = 1\n",
    "OUTPUT_SIZE = 1\n",
    "CHANNEL_SIZES = [32] * 3\n",
    "KERNEL_SIZE = 16"
   ]
  },
  {
   "cell_type": "code",
   "execution_count": 3,
   "metadata": {},
   "outputs": [],
   "source": [
    "################################################################################\n",
    "###########                   Import Dataset(s)               ##################\n",
    "################################################################################\n",
    "from os import walk, path\n",
    "from data.file_handler import filter_filenames, read_file\n",
    "from data.processing import parse_str\n",
    "from config import BASE, DATASET_DIR, DATA_REG, LABEL_REG\n",
    "from torch.utils.data import DataLoader\n",
    "from data.dataset import CustomDataset\n",
    "\n",
    "# Get paths\n",
    "filenames = next(walk(path.join(path.abspath('../'), \"dataset\")), (None, None, []))[2]  # extract all files from dataset folder\n",
    "# file_paths = [\"./dataset/data64QAM.txt\", \"./dataset/OSC_sync_291.txt\", \"./dataset/OSC_sync_292.txt\", \"./dataset/OSC_sync_293.txt\"]\n",
    "input_filenames = filter_filenames(filenames, DATA_REG) # filter the files, we only want output signals\n",
    "input_filenames.sort()\n",
    "label_filenames = filter_filenames(filenames, LABEL_REG)\n",
    "label_filenames.sort()\n",
    "\n",
    "array_data = []\n",
    "array_labels = []\n",
    "\n",
    "# We are specifally training on \"OSC_sync_471.txt\"\n",
    "if input_filenames.count(\"OSC_sync_471.txt\"):\n",
    "  array_data = parse_str(\n",
    "    read_file(path.join(path.abspath('../'), DATASET_DIR, \"OSC_sync_471.txt\"))\n",
    "  )\n",
    "else:\n",
    "  print(\"OSC_sync_471.txt not found!\")\n",
    "\n",
    "if label_filenames.count(\"data64QAM.txt\"):\n",
    "  array_labels = parse_str(\n",
    "    read_file(path.join(path.abspath('../'), DATASET_DIR, \"data64QAM.txt\")\n",
    "    )\n",
    "  )\n",
    "else:\n",
    "  print(\"data64QAM.txt not found!\")\n",
    "\n",
    "dataset = CustomDataset(\"../dataset\", \"OSC_sync_471.txt\",\"data64QAM.txt\", WINDOW_SIZE)\n",
    "\n",
    "# Split into train and validation sets\n",
    "train_size = int(0.6 * len(dataset))\n",
    "val_size = len(dataset) - train_size\n",
    "train_dataset, val_dataset = torch.utils.data.random_split(\n",
    "    dataset, [train_size, val_size]\n",
    ")\n",
    "\n",
    "train_loader = DataLoader(train_dataset, batch_size=BATCH_SIZE, shuffle=True)\n",
    "val_loader = DataLoader(val_dataset, batch_size=BATCH_SIZE, shuffle=False)\n",
    "\n",
    "# dataset = CustomDataset_1D(array_data, array_labels, 255, train=True, train_ratio=0.6)\n",
    "# dataloader = DataLoader(dataset, batch_size=512, shuffle=True)\n",
    "\n",
    "# validation_dataset = CustomDataset_1D(\n",
    "#   array_data, array_labels, 255, train=False, train_ratio=0.6\n",
    "# )\n",
    "# validation_dataloader = DataLoader(\n",
    "#   validation_dataset, batch_size=512\n",
    "# )\n",
    "\n",
    "# train_count = 0\n",
    "# flag = False\n",
    "# print(f\"Training dataloader iterations: {len(dataloader)}\")\n",
    "# print(f\"Validation dataloader iterations: {len(validation_dataloader)}\")\n",
    "# for idx, data in enumerate(dataloader):\n",
    "#     datas = data[0]\n",
    "#     labels = data[1]\n",
    "#     if not flag:\n",
    "#       print(\"Data shape:\", datas.shape)\n",
    "#       print(\"Label shape:\", labels.shape)\n",
    "#       flag = True\n",
    "#     train_count += datas.shape[0]\n",
    "#     # break\n",
    "# print(f\"Training dataset count: {train_count}\")\n",
    "# test_count = 0\n",
    "# flag = False\n",
    "# for idx, data in enumerate(validation_dataloader):\n",
    "#     datas = data[0]\n",
    "#     labels = data[1]\n",
    "#     if not flag:\n",
    "#       print(\"Data shape:\", datas.shape)\n",
    "#       print(\"Label shape:\", labels.shape)\n",
    "#       flag = True\n",
    "#     test_count += datas.shape[0]\n",
    "#     # break\n",
    "# print(f\"Validation dataset count: {test_count}\")\n",
    "# print(f\"Total count: {train_count + test_count}\")\n"
   ]
  },
  {
   "cell_type": "markdown",
   "metadata": {},
   "source": [
    "# Training"
   ]
  },
  {
   "cell_type": "code",
   "execution_count": 5,
   "metadata": {},
   "outputs": [
    {
     "name": "stdout",
     "output_type": "stream",
     "text": [
      "BiTCN(\n",
      "  (tcn): TemporalConvNet(\n",
      "    (network): Sequential(\n",
      "      (0): TemporalBlock(\n",
      "        (conv1): ParametrizedConv1d(\n",
      "          1, 32, kernel_size=(16,), stride=(1,), padding=(15,)\n",
      "          (parametrizations): ModuleDict(\n",
      "            (weight): ParametrizationList(\n",
      "              (0): _WeightNorm()\n",
      "            )\n",
      "          )\n",
      "        )\n",
      "        (chomp1): Chomp1D()\n",
      "        (relu1): PReLU(num_parameters=1)\n",
      "        (dropout1): Dropout(p=0.05, inplace=False)\n",
      "        (conv2): ParametrizedConv1d(\n",
      "          32, 32, kernel_size=(16,), stride=(1,), padding=(15,)\n",
      "          (parametrizations): ModuleDict(\n",
      "            (weight): ParametrizationList(\n",
      "              (0): _WeightNorm()\n",
      "            )\n",
      "          )\n",
      "        )\n",
      "        (chomp2): Chomp1D()\n",
      "        (relu2): PReLU(num_parameters=1)\n",
      "        (dropout2): Dropout(p=0.05, inplace=False)\n",
      "        (net): Sequential(\n",
      "          (0): ParametrizedConv1d(\n",
      "            1, 32, kernel_size=(16,), stride=(1,), padding=(15,)\n",
      "            (parametrizations): ModuleDict(\n",
      "              (weight): ParametrizationList(\n",
      "                (0): _WeightNorm()\n",
      "              )\n",
      "            )\n",
      "          )\n",
      "          (1): Chomp1D()\n",
      "          (2): PReLU(num_parameters=1)\n",
      "          (3): Dropout(p=0.05, inplace=False)\n",
      "          (4): ParametrizedConv1d(\n",
      "            32, 32, kernel_size=(16,), stride=(1,), padding=(15,)\n",
      "            (parametrizations): ModuleDict(\n",
      "              (weight): ParametrizationList(\n",
      "                (0): _WeightNorm()\n",
      "              )\n",
      "            )\n",
      "          )\n",
      "          (5): Chomp1D()\n",
      "          (6): PReLU(num_parameters=1)\n",
      "          (7): Dropout(p=0.05, inplace=False)\n",
      "        )\n",
      "        (downsample): Conv1d(1, 32, kernel_size=(1,), stride=(1,))\n",
      "        (relu): PReLU(num_parameters=1)\n",
      "      )\n",
      "      (1): TemporalBlock(\n",
      "        (conv1): ParametrizedConv1d(\n",
      "          32, 32, kernel_size=(16,), stride=(1,), padding=(30,), dilation=(2,)\n",
      "          (parametrizations): ModuleDict(\n",
      "            (weight): ParametrizationList(\n",
      "              (0): _WeightNorm()\n",
      "            )\n",
      "          )\n",
      "        )\n",
      "        (chomp1): Chomp1D()\n",
      "        (relu1): PReLU(num_parameters=1)\n",
      "        (dropout1): Dropout(p=0.05, inplace=False)\n",
      "        (conv2): ParametrizedConv1d(\n",
      "          32, 32, kernel_size=(16,), stride=(1,), padding=(30,), dilation=(2,)\n",
      "          (parametrizations): ModuleDict(\n",
      "            (weight): ParametrizationList(\n",
      "              (0): _WeightNorm()\n",
      "            )\n",
      "          )\n",
      "        )\n",
      "        (chomp2): Chomp1D()\n",
      "        (relu2): PReLU(num_parameters=1)\n",
      "        (dropout2): Dropout(p=0.05, inplace=False)\n",
      "        (net): Sequential(\n",
      "          (0): ParametrizedConv1d(\n",
      "            32, 32, kernel_size=(16,), stride=(1,), padding=(30,), dilation=(2,)\n",
      "            (parametrizations): ModuleDict(\n",
      "              (weight): ParametrizationList(\n",
      "                (0): _WeightNorm()\n",
      "              )\n",
      "            )\n",
      "          )\n",
      "          (1): Chomp1D()\n",
      "          (2): PReLU(num_parameters=1)\n",
      "          (3): Dropout(p=0.05, inplace=False)\n",
      "          (4): ParametrizedConv1d(\n",
      "            32, 32, kernel_size=(16,), stride=(1,), padding=(30,), dilation=(2,)\n",
      "            (parametrizations): ModuleDict(\n",
      "              (weight): ParametrizationList(\n",
      "                (0): _WeightNorm()\n",
      "              )\n",
      "            )\n",
      "          )\n",
      "          (5): Chomp1D()\n",
      "          (6): PReLU(num_parameters=1)\n",
      "          (7): Dropout(p=0.05, inplace=False)\n",
      "        )\n",
      "        (relu): PReLU(num_parameters=1)\n",
      "      )\n",
      "      (2): TemporalBlock(\n",
      "        (conv1): ParametrizedConv1d(\n",
      "          32, 32, kernel_size=(16,), stride=(1,), padding=(60,), dilation=(4,)\n",
      "          (parametrizations): ModuleDict(\n",
      "            (weight): ParametrizationList(\n",
      "              (0): _WeightNorm()\n",
      "            )\n",
      "          )\n",
      "        )\n",
      "        (chomp1): Chomp1D()\n",
      "        (relu1): PReLU(num_parameters=1)\n",
      "        (dropout1): Dropout(p=0.05, inplace=False)\n",
      "        (conv2): ParametrizedConv1d(\n",
      "          32, 32, kernel_size=(16,), stride=(1,), padding=(60,), dilation=(4,)\n",
      "          (parametrizations): ModuleDict(\n",
      "            (weight): ParametrizationList(\n",
      "              (0): _WeightNorm()\n",
      "            )\n",
      "          )\n",
      "        )\n",
      "        (chomp2): Chomp1D()\n",
      "        (relu2): PReLU(num_parameters=1)\n",
      "        (dropout2): Dropout(p=0.05, inplace=False)\n",
      "        (net): Sequential(\n",
      "          (0): ParametrizedConv1d(\n",
      "            32, 32, kernel_size=(16,), stride=(1,), padding=(60,), dilation=(4,)\n",
      "            (parametrizations): ModuleDict(\n",
      "              (weight): ParametrizationList(\n",
      "                (0): _WeightNorm()\n",
      "              )\n",
      "            )\n",
      "          )\n",
      "          (1): Chomp1D()\n",
      "          (2): PReLU(num_parameters=1)\n",
      "          (3): Dropout(p=0.05, inplace=False)\n",
      "          (4): ParametrizedConv1d(\n",
      "            32, 32, kernel_size=(16,), stride=(1,), padding=(60,), dilation=(4,)\n",
      "            (parametrizations): ModuleDict(\n",
      "              (weight): ParametrizationList(\n",
      "                (0): _WeightNorm()\n",
      "              )\n",
      "            )\n",
      "          )\n",
      "          (5): Chomp1D()\n",
      "          (6): PReLU(num_parameters=1)\n",
      "          (7): Dropout(p=0.05, inplace=False)\n",
      "        )\n",
      "        (relu): PReLU(num_parameters=1)\n",
      "      )\n",
      "    )\n",
      "  )\n",
      "  (linear): Linear(in_features=32768, out_features=1, bias=True)\n",
      ")\n",
      "Starting epoch 1/10\n"
     ]
    },
    {
     "name": "stderr",
     "output_type": "stream",
     "text": [
      "                                                              \r"
     ]
    },
    {
     "name": "stdout",
     "output_type": "stream",
     "text": [
      "Epoch [1/10], Train Loss: 0.2034, Validation Loss: 0.0181\n",
      "Saved model with validation loss: 0.0181\n",
      "Starting epoch 2/10\n"
     ]
    },
    {
     "name": "stderr",
     "output_type": "stream",
     "text": [
      "                                                              \r"
     ]
    },
    {
     "name": "stdout",
     "output_type": "stream",
     "text": [
      "Epoch [2/10], Train Loss: 0.0234, Validation Loss: 0.0155\n",
      "Saved model with validation loss: 0.0155\n",
      "Starting epoch 3/10\n"
     ]
    },
    {
     "name": "stderr",
     "output_type": "stream",
     "text": [
      "                                                              \r"
     ]
    },
    {
     "name": "stdout",
     "output_type": "stream",
     "text": [
      "Epoch [3/10], Train Loss: 0.0200, Validation Loss: 0.0139\n",
      "Saved model with validation loss: 0.0139\n",
      "Starting epoch 4/10\n"
     ]
    },
    {
     "name": "stderr",
     "output_type": "stream",
     "text": [
      "                                                              \r"
     ]
    },
    {
     "name": "stdout",
     "output_type": "stream",
     "text": [
      "Epoch [4/10], Train Loss: 0.0158, Validation Loss: 0.0122\n",
      "Saved model with validation loss: 0.0122\n",
      "Starting epoch 5/10\n"
     ]
    },
    {
     "name": "stderr",
     "output_type": "stream",
     "text": [
      "                                                              \r"
     ]
    },
    {
     "name": "stdout",
     "output_type": "stream",
     "text": [
      "Epoch [5/10], Train Loss: 0.0152, Validation Loss: 0.0121\n",
      "Saved model with validation loss: 0.0121\n",
      "Starting epoch 6/10\n"
     ]
    },
    {
     "name": "stderr",
     "output_type": "stream",
     "text": [
      "                                                              \r"
     ]
    },
    {
     "name": "stdout",
     "output_type": "stream",
     "text": [
      "Epoch [6/10], Train Loss: 0.0150, Validation Loss: 0.0114\n",
      "Saved model with validation loss: 0.0114\n",
      "Starting epoch 7/10\n"
     ]
    },
    {
     "name": "stderr",
     "output_type": "stream",
     "text": [
      "                                                              \r"
     ]
    },
    {
     "name": "stdout",
     "output_type": "stream",
     "text": [
      "Epoch [7/10], Train Loss: 0.0142, Validation Loss: 0.0114\n",
      "Saved model with validation loss: 0.0114\n",
      "Starting epoch 8/10\n"
     ]
    },
    {
     "name": "stderr",
     "output_type": "stream",
     "text": [
      "                                                              \r"
     ]
    },
    {
     "name": "stdout",
     "output_type": "stream",
     "text": [
      "Epoch [8/10], Train Loss: 0.0141, Validation Loss: 0.0115\n",
      "Starting epoch 9/10\n"
     ]
    },
    {
     "name": "stderr",
     "output_type": "stream",
     "text": [
      "                                                              \r"
     ]
    },
    {
     "name": "stdout",
     "output_type": "stream",
     "text": [
      "Epoch [9/10], Train Loss: 0.0141, Validation Loss: 0.0113\n",
      "Saved model with validation loss: 0.0113\n",
      "Starting epoch 10/10\n"
     ]
    },
    {
     "name": "stderr",
     "output_type": "stream",
     "text": [
      "                                                              "
     ]
    },
    {
     "name": "stdout",
     "output_type": "stream",
     "text": [
      "Epoch [10/10], Train Loss: 0.0139, Validation Loss: 0.0114\n"
     ]
    },
    {
     "name": "stderr",
     "output_type": "stream",
     "text": [
      "\r"
     ]
    }
   ],
   "source": [
    "import torch.nn as nn\n",
    "from torch.optim.lr_scheduler import StepLR\n",
    "from tqdm import tqdm\n",
    "\n",
    "from nn.TCNN import BiTCN\n",
    "\n",
    "model = BiTCN(\n",
    "  INPUT_SIZE,\n",
    "  OUTPUT_SIZE,\n",
    "  CHANNEL_SIZES,\n",
    "  KERNEL_SIZE,\n",
    "  seq_len=WINDOW_SIZE,\n",
    "  dropout=DROPOUT\n",
    ")\n",
    "model = model.to(device)\n",
    "\n",
    "print(model)\n",
    "\n",
    "criterion = nn.MSELoss()\n",
    "optimizer = torch.optim.Adam(\n",
    "  model.parameters(),\n",
    "  lr = LEARNING_RATE\n",
    ")\n",
    "scheduler = StepLR(optimizer, step_size=3, gamma=0.1)\n",
    "\n",
    "def train(model, device,train_loader, optimizer, criterion):\n",
    "    model.train()\n",
    "    total_loss = 0\n",
    "    for X_batch, y_batch in tqdm(train_loader, desc=\"Training\", leave=False):\n",
    "        optimizer.zero_grad()\n",
    "        output = model(X_batch.to(device))\n",
    "        loss = criterion(output, y_batch.to(device))\n",
    "        loss.backward()\n",
    "        optimizer.step()\n",
    "        total_loss += loss.item()\n",
    "        average_loss = total_loss / len(train_loader)\n",
    "    return average_loss\n",
    "\n",
    "def validate(model, device, val_loader, criterion):\n",
    "    model.eval()\n",
    "    total_loss = 0\n",
    "    with torch.no_grad():\n",
    "        for X_batch, y_batch in tqdm(val_loader, desc=\"Validation\", leave=False):\n",
    "            output = model(X_batch.to(device))\n",
    "            loss = criterion(output, y_batch.to(device))\n",
    "            total_loss += loss.item()\n",
    "        average_loss = total_loss / len(val_loader)\n",
    "    return average_loss\n",
    "\n",
    "# Train the model\n",
    "train_losses = []\n",
    "val_losses = []\n",
    "\n",
    "best_val_loss = float('inf')\n",
    "\n",
    "for epoch in range(N_EPOCHS):\n",
    "    print(f\"Starting epoch {epoch + 1}/{N_EPOCHS}\")\n",
    "\n",
    "    train_loss = train(model, device, train_loader, optimizer, criterion)\n",
    "    val_loss = validate(model, device, val_loader, criterion)\n",
    "    train_losses.append(train_loss)\n",
    "    val_losses.append(val_loss)\n",
    "    scheduler.step()\n",
    "\n",
    "    print(f\"Epoch [{epoch + 1}/{N_EPOCHS}], Train Loss: {train_loss:.4f}, Validation Loss: {val_loss:.4f}\")\n",
    "    if val_loss < best_val_loss:\n",
    "        best_val_loss = val_loss\n",
    "        torch.save(model.state_dict(), 'BiTCN_best_model.pth')\n",
    "        print(f\"Saved model with validation loss: {best_val_loss:.4f}\")\n"
   ]
  },
  {
   "cell_type": "code",
   "execution_count": 5,
   "metadata": {},
   "outputs": [
    {
     "data": {
      "image/png": "[encoded data removed]",
      "text/plain": [
       "<Figure size 1000x600 with 1 Axes>"
      ]
     },
     "metadata": {},
     "output_type": "display_data"
    }
   ],
   "source": [
    "import matplotlib.pyplot as plt\n",
    "\n",
    "# Plotting function\n",
    "def plot_metrics(train_losses, val_losses):\n",
    "    plt.figure(figsize=(10, 6))\n",
    "    plt.plot(train_losses, label='Training Loss')\n",
    "    plt.plot(val_losses, label='Validation Loss')\n",
    "    plt.xlabel('Epoch')\n",
    "    plt.ylabel('Loss')\n",
    "    plt.title('Loss vs Epoch')\n",
    "    plt.legend()\n",
    "    plt.grid(True)\n",
    "    plt.show()\n",
    "\n",
    "# Plot losses after training\n",
    "plot_metrics(train_losses, val_losses)"
   ]
  },
  {
   "cell_type": "code",
   "execution_count": 6,
   "metadata": {},
   "outputs": [
    {
     "name": "stderr",
     "output_type": "stream",
     "text": [
      "                                                           "
     ]
    },
    {
     "name": "stdout",
     "output_type": "stream",
     "text": [
      "Test Loss: 0.0089\n",
      "Test Accuracy: 0.00%\n",
      "0.00892589084806973 0.0\n"
     ]
    },
    {
     "name": "stderr",
     "output_type": "stream",
     "text": [
      "\r"
     ]
    }
   ],
   "source": [
    "def test_accuracy(model, device, test_loader, criterion):\n",
    "    \"\"\"\n",
    "    Test the current model and compute accuracy or evaluation metrics.\n",
    "    \n",
    "    Args:\n",
    "        model: The trained model.\n",
    "        device: The computation device (e.g., 'cuda' or 'cpu').\n",
    "        test_loader: DataLoader for the test dataset.\n",
    "        criterion: The loss function for evaluation.\n",
    "\n",
    "    Returns:\n",
    "        average_loss: Average loss on the test dataset.\n",
    "        accuracy: Accuracy for classification tasks, or None for regression tasks.\n",
    "    \"\"\"\n",
    "    model.eval()\n",
    "    total_loss = 0\n",
    "    correct = 0\n",
    "    total = 0\n",
    "\n",
    "    with torch.no_grad():\n",
    "        for X_batch, y_batch in tqdm(test_loader, desc=\"Testing\", leave=False):\n",
    "            X_batch, y_batch = X_batch.to(device), y_batch.to(device)\n",
    "            output = model(X_batch)\n",
    "            loss = criterion(output, y_batch)\n",
    "            total_loss += loss.item()\n",
    "\n",
    "            # Classification: Compute accuracy\n",
    "            if len(y_batch.shape) == 1 or y_batch.size(1) == 1:  # Assumes binary or multiclass classification\n",
    "                preds = output.argmax(dim=1) if output.ndim > 1 else (output > 0.5).long()\n",
    "                correct += (preds == y_batch).sum().item()\n",
    "                total += y_batch.size(0)\n",
    "    \n",
    "    average_loss = total_loss / len(test_loader)\n",
    "    accuracy = correct / total if total > 0 else None\n",
    "\n",
    "    print(f\"Test Loss: {average_loss:.4f}\")\n",
    "    if accuracy is not None:\n",
    "        print(f\"Test Accuracy: {accuracy * 100:.2f}%\")\n",
    "    \n",
    "    return average_loss, accuracy\n",
    "\n",
    "test_loss, test_accuracy = test_accuracy(model, device, val_loader, criterion)\n",
    "print(test_loss, test_accuracy)"
   ]
  },
  {
   "cell_type": "markdown",
   "metadata": {},
   "source": [
    "# Running the Model"
   ]
  },
  {
   "cell_type": "code",
   "execution_count": 3,
   "metadata": {},
   "outputs": [
    {
     "name": "stderr",
     "output_type": "stream",
     "text": [
      "C:\\Users\\wjw_0\\AppData\\Local\\Temp\\ipykernel_19188\\3468653221.py:21: FutureWarning: You are using `torch.load` with `weights_only=False` (the current default value), which uses the default pickle module implicitly. It is possible to construct malicious pickle data which will execute arbitrary code during unpickling (See https://github.com/pytorch/pytorch/blob/main/SECURITY.md#untrusted-models for more details). In a future release, the default value for `weights_only` will be flipped to `True`. This limits the functions that could be executed during unpickling. Arbitrary objects will no longer be allowed to be loaded via this mode unless they are explicitly allowlisted by the user via `torch.serialization.add_safe_globals`. We recommend you start setting `weights_only=True` for any use case where you don't have full control of the loaded file. Please open an issue on GitHub for any issues related to this experimental feature.\n",
      "  torch.load(\"BiTCN_best_model.pth\", map_location=torch.device(device))\n",
      "                                                                \r"
     ]
    }
   ],
   "source": [
    "import numpy as np\n",
    "from tqdm import tqdm\n",
    "from torch.utils.data import DataLoader\n",
    "import math\n",
    "\n",
    "from data.dataset import CustomDataset\n",
    "from nn.TCNN import BiTCN\n",
    "\n",
    "model = BiTCN(\n",
    "  INPUT_SIZE,\n",
    "  OUTPUT_SIZE,\n",
    "  CHANNEL_SIZES,\n",
    "  KERNEL_SIZE,\n",
    "  seq_len=WINDOW_SIZE,\n",
    "  dropout=DROPOUT\n",
    ")\n",
    "device = torch.device(\"cuda\" if torch.cuda.is_available() else \"cpu\")\n",
    "model = model.to(device)\n",
    "\n",
    "model.load_state_dict(\n",
    "  torch.load(\"BiTCN_best_model.pth\", map_location=torch.device(device))\n",
    ")\n",
    "\n",
    "dataset = CustomDataset(\"../dataset\", \"OSC_sync_471.txt\",\"data64QAM.txt\", WINDOW_SIZE)\n",
    "loader = DataLoader(dataset, batch_size=BATCH_SIZE, shuffle=False)\n",
    "\n",
    "predictions = []\n",
    "\n",
    "def get_txt(model, device, data_loader):\n",
    "    model.eval()\n",
    "    output=[]\n",
    "    with torch.no_grad():\n",
    "        import time\n",
    "        i = 0\n",
    "        for X_batch, y_batch in tqdm(data_loader, desc=\"Validation\", leave=False):\n",
    "            start_time = time.time()  # 记录开始时间\n",
    "            out = model(X_batch.to(device))\n",
    "            end_time = time.time()  # 记录结束时间\n",
    "            inference_time = end_time - start_time  # 计算推理时间\n",
    "            # print(f\"Inference Time: {inference_time} seconds\")\n",
    "            output.append(out.detach().cpu())\n",
    "            outputs = torch.cat(output, dim=0)\n",
    "            outputs_np = outputs.numpy()\n",
    "            # i = i + 1\n",
    "            # if i == 10:\n",
    "            #   break\n",
    "    return outputs_np.flatten()\n",
    "\n",
    "predictions = get_txt(model, device, loader)\n",
    "half_window = math.floor((WINDOW_SIZE - 1) // 2)\n",
    "with open(r'../dataset/data64QAM.txt', 'r') as file:\n",
    "    original_data = np.array([float(line.strip()) for line in file.readlines()])\n",
    "diff = dataset.size - (len(predictions)  + half_window*2)\n",
    "prefix = original_data[:half_window + diff]\n",
    "suffix = original_data[-half_window:]\n",
    "final_predictions = np.concatenate([prefix, predictions, suffix])\n",
    "final_predictions = final_predictions.reshape(-1,1)"
   ]
  },
  {
   "cell_type": "markdown",
   "metadata": {},
   "source": [
    "# Visualization"
   ]
  },
  {
   "cell_type": "code",
   "execution_count": null,
   "metadata": {},
   "outputs": [
    {
     "name": "stdout",
     "output_type": "stream",
     "text": [
      "204800 204800 204800\n"
     ]
    },
    {
     "data": {
      "image/png": "[encoded data removed]",
      "text/plain": [
       "<Figure size 1000x600 with 1 Axes>"
      ]
     },
     "metadata": {},
     "output_type": "display_data"
    },
    {
     "data": {
      "image/png": "[encoded data removed]",
      "text/plain": [
       "<Figure size 1000x600 with 1 Axes>"
      ]
     },
     "metadata": {},
     "output_type": "display_data"
    }
   ],
   "source": [
    "from data.file_handler import read_file\n",
    "from data.processing import parse_str\n",
    "from visual.fft import fft, graph_fft, graph_fft_overlap\n",
    "\n",
    "from os import path\n",
    "import matplotlib.pyplot as plt\n",
    "import numpy as np\n",
    "\n",
    "folder_path = \"../dataset\"\n",
    "data_file = \"data64QAM.txt\"\n",
    "receieve_file = \"OSC_sync_471.txt\"\n",
    "\n",
    "data_path = path.join(folder_path, data_file)\n",
    "receive_path = path.join(folder_path, receieve_file)\n",
    "dataset = parse_str(read_file(data_path))\n",
    "receieve = parse_str(read_file(receive_path))\n",
    "\n",
    "dataset = np.array(dataset).squeeze()\n",
    "receieve = np.array(receieve).squeeze()\n",
    "\n",
    "predictions = final_predictions.squeeze()\n",
    "\n",
    "fft_signal_1, freqs_1 = fft(dataset)\n",
    "fft_signal_2, freqs_2 = fft(receieve)\n",
    "fft_signal_3, freqs_3 = fft(predictions)\n",
    "print(len(fft_signal_1), len(fft_signal_2), len(final_predictions))\n",
    "\n",
    "graph_fft(freqs_1, fft_signal_1, show_fig=False)\n",
    "graph_fft(freqs_2, fft_signal_2, show_fig=False)\n",
    "graph_fft(freqs_3, fft_signal_3, show_fig=False)\n",
    "# graph_fft_overlap(freqs_1, fft_signal_1, freqs_2, fft_signal_2, title=\"FFT Signal Comparison\")\n",
    "\n",
    "plt.show()"
   ]
  },
  {
   "cell_type": "markdown",
   "metadata": {},
   "source": []
  }
 ],
 "metadata": {
  "kernelspec": {
   "display_name": "dsp-project",
   "language": "python",
   "name": "python3"
  },
  "language_info": {
   "codemirror_mode": {
    "name": "ipython",
    "version": 3
   },
   "file_extension": ".py",
   "mimetype": "text/x-python",
   "name": "python",
   "nbconvert_exporter": "python",
   "pygments_lexer": "ipython3",
   "version": "3.11.10"
  }
 },
 "nbformat": 4,
 "nbformat_minor": 2
}
